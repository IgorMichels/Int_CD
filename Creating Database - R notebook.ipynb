{
 "cells": [
  {
   "cell_type": "code",
   "execution_count": 1,
   "id": "indoor-medicare",
   "metadata": {},
   "outputs": [
    {
     "name": "stderr",
     "output_type": "stream",
     "text": [
      "Warning message:\n",
      "\"package 'dplyr' was built under R version 3.6.3\"\n",
      "Attaching package: 'dplyr'\n",
      "\n",
      "The following objects are masked from 'package:stats':\n",
      "\n",
      "    filter, lag\n",
      "\n",
      "The following objects are masked from 'package:base':\n",
      "\n",
      "    intersect, setdiff, setequal, union\n",
      "\n",
      "Warning message:\n",
      "\"package 'rlist' was built under R version 3.6.3\""
     ]
    }
   ],
   "source": [
    "library(readr)\n",
    "library(dplyr)\n",
    "library(stringr)\n",
    "library(rlist)"
   ]
  },
  {
   "cell_type": "code",
   "execution_count": 2,
   "id": "intensive-ultimate",
   "metadata": {},
   "outputs": [
    {
     "name": "stderr",
     "output_type": "stream",
     "text": [
      "Parsed with column specification:\n",
      "cols(\n",
      "  ID = col_character(),\n",
      "  Title = col_character(),\n",
      "  Year = col_double(),\n",
      "  Age = col_character(),\n",
      "  IMDb = col_double(),\n",
      "  Rotten_Tomatoes = col_character(),\n",
      "  Netflix = col_double(),\n",
      "  Hulu = col_double(),\n",
      "  Prime_Video = col_double(),\n",
      "  DisneyPlus = col_double(),\n",
      "  type = col_double()\n",
      ")\n",
      "Warning message:\n",
      "\"85 parsing failures.\n",
      "row col   expected    actual                file\n",
      " 63  -- 11 columns 1 columns 'Data/tv_shows.csv'\n",
      " 69  -- 11 columns 1 columns 'Data/tv_shows.csv'\n",
      "423  -- 11 columns 1 columns 'Data/tv_shows.csv'\n",
      "453  -- 11 columns 1 columns 'Data/tv_shows.csv'\n",
      "528  -- 11 columns 1 columns 'Data/tv_shows.csv'\n",
      "... ... .......... ......... ...................\n",
      "See problems(...) for more details.\n",
      "\"Parsed with column specification:\n",
      "cols(\n",
      "  imdb_id = col_character(),\n",
      "  title = col_character(),\n",
      "  plot = col_character(),\n",
      "  type = col_character(),\n",
      "  rated = col_character(),\n",
      "  year = col_character(),\n",
      "  released_at = col_character(),\n",
      "  added_at = col_character(),\n",
      "  runtime = col_character(),\n",
      "  genre = col_character(),\n",
      "  director = col_character(),\n",
      "  writer = col_character(),\n",
      "  actors = col_character(),\n",
      "  language = col_character(),\n",
      "  country = col_character(),\n",
      "  awards = col_character(),\n",
      "  metascore = col_character(),\n",
      "  imdb_rating = col_character(),\n",
      "  imdb_votes = col_character()\n",
      ")\n",
      "Parsed with column specification:\n",
      "cols(\n",
      "  show_id = col_character(),\n",
      "  type = col_character(),\n",
      "  title = col_character(),\n",
      "  director = col_character(),\n",
      "  cast = col_character(),\n",
      "  country = col_character(),\n",
      "  date_added = col_character(),\n",
      "  release_year = col_double(),\n",
      "  rating = col_character(),\n",
      "  duration = col_character(),\n",
      "  listed_in = col_character(),\n",
      "  description = col_character()\n",
      ")\n",
      "Parsed with column specification:\n",
      "cols(\n",
      "  ID = col_double(),\n",
      "  Title = col_character(),\n",
      "  Release_Year = col_double(),\n",
      "  Seasons_Avaliable = col_double(),\n",
      "  Language = col_character(),\n",
      "  Genre = col_character(),\n",
      "  IMDb = col_double(),\n",
      "  Age = col_character()\n",
      ")\n"
     ]
    }
   ],
   "source": [
    "shows <- read_csv('Data/tv_shows.csv')\n",
    "disney <- read_csv('Data/disney_plus_shows.csv')\n",
    "netflix <- read_csv('Data/netflix_titles.csv')\n",
    "prime <- read_csv('Data/Prime TV Shows Data set.csv')"
   ]
  },
  {
   "cell_type": "code",
   "execution_count": 3,
   "id": "empty-slave",
   "metadata": {},
   "outputs": [],
   "source": [
    "# Limpando o databse conjunto para os dados relevantes\n",
    "\n",
    "cshows <- shows %>% mutate(Streamings = paste(sep = ' ', ifelse(Netflix == 1, 'Netflix', ''),\n",
    "                                                         ifelse(Prime_Video == 1, 'Prime', ''),\n",
    "                                                         ifelse(DisneyPlus == 1, 'Disney', '')) %>%\n",
    "                                        trimws() %>%\n",
    "                                        str_replace(' ',', ')) %>%\n",
    "                                        select(-Netflix, -Hulu, -Prime_Video, -DisneyPlus, -type, -ID)\n",
    "\n",
    "cshows <- subset(cshows, Streamings != 'NA, NA NA' & Streamings != '')\n",
    "cshows <- cshows %>% mutate(Rotten_Tomatoes = as.numeric(sub('%', '', Rotten_Tomatoes)))\n",
    "\n",
    "# Importanto Genero dos demais databases\n",
    "\n",
    "t1 <- netflix %>% mutate(Title = title, Genre = listed_in) %>% select(Title, Genre) \n",
    "t2 <- prime %>% mutate(Title = ) %>% select(Title, Genre)\n",
    "t3 <- disney %>% mutate(Title = title, Genre = genre) %>% select(Title, Genre)\n",
    "gb <- c('Title', 'Genre')\n",
    "t <- full_join(t1, full_join(t2, t3, by = gb), by = gb)\n",
    "\n",
    "cshows <- left_join(cshows, t, by = 'Title')\n",
    "write.csv(cshows, 'Data/shows.csv')"
   ]
  }
 ],
 "metadata": {
  "kernelspec": {
   "display_name": "R",
   "language": "R",
   "name": "ir"
  },
  "language_info": {
   "codemirror_mode": "r",
   "file_extension": ".r",
   "mimetype": "text/x-r-source",
   "name": "R",
   "pygments_lexer": "r",
   "version": "3.6.1"
  }
 },
 "nbformat": 4,
 "nbformat_minor": 5
}
